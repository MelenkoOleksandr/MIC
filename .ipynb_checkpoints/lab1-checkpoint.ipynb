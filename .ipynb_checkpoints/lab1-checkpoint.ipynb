{
 "cells": [
  {
   "cell_type": "code",
   "execution_count": null,
   "id": "421a14a7-f4af-48a7-8191-a34f352bca5a",
   "metadata": {},
   "outputs": [],
   "source": [
    "# Інформація про Йорданію\n",
    "\n",
    "## Площа\n",
    "Загальна площа: 89,342 км²\n",
    "\n",
    "## Населення\n",
    "Кількість жителів: близько 10 мільйонів\n",
    "\n",
    "## Державний устрій\n",
    "Форма правління: конституційна монархія\n",
    "\n",
    "## Видатні персони\n",
    "- [Абдаллах II](https://uk.wikipedia.org/wiki/%D0%90%D0%B1%D0%B4%D0%B0%D0%BB%D0%BB%D0%B0%D1%85_II_(%D0%BA%D0%BE%D1%80%D0%BE%D0%BB%D1%8C_%D0%99%D0%BE%D1%80%D0%B4%D0%B0%D0%BD%D1%96%D1%97)) - король Йорданії\n",
    "- [Ранья аль-Абдаллах](https://uk.wikipedia.org/wiki/%D0%A0%D0%B0%D0%BD%D1%8C%D1%8F_%D0%B0%D0%BB-%D0%B0%D0%B1%D0%B4%D0%B0%D0%BB%D0%BB%D0%B0%D1%85) - королева Йорданії\n",
    "\n",
    "## Пам'ятки культури та природи\n",
    "- Петра - археологічний сайт\n",
    "- Місто джераш\n",
    "- Мертве море\n",
    "\n",
    "## Зображення\n",
    "![Краєвид Йорданії](https://st2.depositphotos.com/1002200/6221/i/450/depositphotos_62212817-stock-photo-autumn-landscape-in-a-mountain.jpg)\n"
   ]
  },
  {
   "cell_type": "code",
   "execution_count": 12,
   "id": "a75eb102-c6f1-4949-b275-dadd2e011136",
   "metadata": {},
   "outputs": [
    {
     "data": {
      "text/html": [
       "<h1>Інформація про Йорданію</h1>\n",
       "\n",
       "<h2>Площа</h2>\n",
       "<p>Загальна площа: 89,342 км²</p>\n",
       "\n",
       "<h2>Населення</h2>\n",
       "<p>Кількість жителів: близько 10 мільйонів</p>\n",
       "\n",
       "<h2>Державний устрій</h2>\n",
       "<p>Форма правління: конституційна монархія</p>\n",
       "\n",
       "<h2>Видатні персони</h2>\n",
       "<ul>\n",
       "    <li><a href=\"https://uk.wikipedia.org/wiki/%D0%90%D0%B1%D0%B4%D0%B0%D0%BB%D0%BB%D0%B0%D1%85_II_(%D0%BA%D0%BE%D1%80%D0%BE%D0%BB%D1%8C_%D0%99%D0%BE%D1%80%D0%B4%D0%B0%D0%BD%D1%96%D1%97)\">Абдаллах II</a> - король Йорданії</li>\n",
       "    <li><a href=\"https://uk.wikipedia.org/wiki/%D0%A0%D0%B0%D0%BD%D1%8C%D1%8F_%D0%B0%D0%BB-%D0%B0%D0%B1%D0%B4%D0%B0%D0%BB%D0%BB%D0%B0%D1%85\">Ранья аль-Абдаллах</a> - королева Йорданії</li>\n",
       "</ul>\n",
       "\n",
       "<h2>Пам'ятки культури та природи</h2>\n",
       "<ul>\n",
       "    <li>Петра - археологічний сайт</li>\n",
       "    <li>Місто джераш</li>\n",
       "    <li>Мертве море</li>\n",
       "</ul>\n",
       "\n",
       "<h2>Зображення</h2>\n",
       "<img src=\"https://st2.depositphotos.com/1002200/6221/i/450/depositphotos_62212817-stock-photo-autumn-landscape-in-a-mountain.jpg\" alt=\"Краєвид Йорданії\" width=\"400\">\n",
       "\n",
       "<h2>Прапор Йорданії (SVG)</h2>\n",
       "<svg xmlns=\"http://www.w3.org/2000/svg\" width=\"1200\" height=\"600\" viewBox=\"0 0 10080 5040\">\n",
       "\t<path fill=\"#fff\" d=\"m0 0h10080v5040H0z\"/>\n",
       "\t<path d=\"m0 0h10080v1680H0z\"/>\n",
       "\t<path fill=\"#007a3d\" d=\"m0 3360h10080v1680H0z\"/>\n",
       "\t<path fill=\"#ce1126\" d=\"m5040 2520L0 5040V0m1557 2160-78 198-203-62 106 184-176 120 211 32-16 212 156-144 157 144-16-212 210-32-175-120 106-184-203 62z\"/>\n",
       "</svg>\n"
      ],
      "text/plain": [
       "<IPython.core.display.HTML object>"
      ]
     },
     "metadata": {},
     "output_type": "display_data"
    }
   ],
   "source": [
    "%%HTML\n",
    "<h1>Інформація про Йорданію</h1>\n",
    "\n",
    "<h2>Площа</h2>\n",
    "<p>Загальна площа: 89,342 км²</p>\n",
    "\n",
    "<h2>Населення</h2>\n",
    "<p>Кількість жителів: близько 10 мільйонів</p>\n",
    "\n",
    "<h2>Державний устрій</h2>\n",
    "<p>Форма правління: конституційна монархія</p>\n",
    "\n",
    "<h2>Видатні персони</h2>\n",
    "<ul>\n",
    "    <li><a href=\"https://uk.wikipedia.org/wiki/%D0%90%D0%B1%D0%B4%D0%B0%D0%BB%D0%BB%D0%B0%D1%85_II_(%D0%BA%D0%BE%D1%80%D0%BE%D0%BB%D1%8C_%D0%99%D0%BE%D1%80%D0%B4%D0%B0%D0%BD%D1%96%D1%97)\">Абдаллах II</a> - король Йорданії</li>\n",
    "    <li><a href=\"https://uk.wikipedia.org/wiki/%D0%A0%D0%B0%D0%BD%D1%8C%D1%8F_%D0%B0%D0%BB-%D0%B0%D0%B1%D0%B4%D0%B0%D0%BB%D0%BB%D0%B0%D1%85\">Ранья аль-Абдаллах</a> - королева Йорданії</li>\n",
    "</ul>\n",
    "\n",
    "<h2>Пам'ятки культури та природи</h2>\n",
    "<ul>\n",
    "    <li>Петра - археологічний сайт</li>\n",
    "    <li>Місто джераш</li>\n",
    "    <li>Мертве море</li>\n",
    "</ul>\n",
    "\n",
    "<h2>Зображення</h2>\n",
    "<img src=\"https://st2.depositphotos.com/1002200/6221/i/450/depositphotos_62212817-stock-photo-autumn-landscape-in-a-mountain.jpg\" alt=\"Краєвид Йорданії\" width=\"400\">\n",
    "\n",
    "<h2>Прапор Йорданії (SVG)</h2>\n",
    "<svg xmlns=\"http://www.w3.org/2000/svg\" width=\"1200\" height=\"600\" viewBox=\"0 0 10080 5040\">\n",
    "\t<path fill=\"#fff\" d=\"m0 0h10080v5040H0z\"/>\n",
    "\t<path d=\"m0 0h10080v1680H0z\"/>\n",
    "\t<path fill=\"#007a3d\" d=\"m0 3360h10080v1680H0z\"/>\n",
    "\t<path fill=\"#ce1126\" d=\"m5040 2520L0 5040V0m1557 2160-78 198-203-62 106 184-176 120 211 32-16 212 156-144 157 144-16-212 210-32-175-120 106-184-203 62z\"/>\n",
    "</svg>\n"
   ]
  },
  {
   "cell_type": "code",
   "execution_count": 16,
   "id": "6b72a6cf-39b5-4e58-848a-41e76dcd5846",
   "metadata": {},
   "outputs": [],
   "source": [
    "def is_prime(n):\n",
    "    if n <= 1:\n",
    "        return False\n",
    "    for i in range(2, int(n**0.5) + 1):\n",
    "        if n % i == 0:\n",
    "            return False\n",
    "    return True\n",
    "\n",
    "def task_6():\n",
    "    try:\n",
    "        a, b = map(int, input(\"Enter two numbers separated by a space: \").split())\n",
    "    except ValueError:\n",
    "        print(\"Invalid input. Please enter two integer numbers separated by a space.\")\n",
    "        return\n",
    "\n",
    "    prime_numbers = [num for num in range(a, b + 1) if is_prime(num)]\n",
    "    return prime_numbers"
   ]
  },
  {
   "cell_type": "code",
   "execution_count": 17,
   "id": "95bb3f55-4def-4289-93a6-d99aff833d7e",
   "metadata": {},
   "outputs": [
    {
     "name": "stdin",
     "output_type": "stream",
     "text": [
      "Enter two numbers separated by a space:  sd 2\n"
     ]
    },
    {
     "name": "stdout",
     "output_type": "stream",
     "text": [
      "Invalid input. Please enter two integer numbers separated by a space.\n"
     ]
    }
   ],
   "source": [
    "task_6()"
   ]
  },
  {
   "cell_type": "code",
   "execution_count": null,
   "id": "ccf90e9b-965c-4187-8153-0cfa9d669fe8",
   "metadata": {},
   "outputs": [],
   "source": []
  }
 ],
 "metadata": {
  "kernelspec": {
   "display_name": "Python 3 (ipykernel)",
   "language": "python",
   "name": "python3"
  },
  "language_info": {
   "codemirror_mode": {
    "name": "ipython",
    "version": 3
   },
   "file_extension": ".py",
   "mimetype": "text/x-python",
   "name": "python",
   "nbconvert_exporter": "python",
   "pygments_lexer": "ipython3",
   "version": "3.11.7"
  }
 },
 "nbformat": 4,
 "nbformat_minor": 5
}
